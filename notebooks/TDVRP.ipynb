{
 "cells": [
  {
   "cell_type": "markdown",
   "metadata": {},
   "source": [
    "# Time Depentend Vehicle Routing Problem"
   ]
  },
  {
   "cell_type": "code",
   "execution_count": 1,
   "metadata": {},
   "outputs": [],
   "source": [
    "import osmnx as ox\n",
    "import requests\n",
    "import json\n",
    "import networkx as nx\n",
    "import numpy as np\n",
    "import pandas as pd"
   ]
  },
  {
   "cell_type": "code",
   "execution_count": 2,
   "metadata": {},
   "outputs": [
    {
     "name": "stdout",
     "output_type": "stream",
     "text": [
      "GraphML was read from file and Grahp was created.\n"
     ]
    }
   ],
   "source": [
    "G = ox.load_graphml('istanbulfull.graphml')\n",
    "print('GraphML was read from file and Grahp was created.')"
   ]
  },
  {
   "cell_type": "markdown",
   "metadata": {},
   "source": [
    "### Map information was taken with the overpass query."
   ]
  },
  {
   "cell_type": "code",
   "execution_count": 3,
   "metadata": {},
   "outputs": [],
   "source": [
    "# overpass_url = \"http://overpass-api.de/api/interpreter\"\n",
    "# overpass_query = \"\"\"\n",
    "# [out:json];\n",
    "# area[\"name\"=\"Üsküdar\"]->.a;\n",
    "# (\n",
    "#   node[\"tourism\"~\"viewpoint|theme_park|museum\"][\"name\"](area.a);\n",
    "#   node[\"historic\"~\".\"][\"name\"](area.a);\n",
    "#   node[\"natural\"~\".\"][\"name\"](area.a);\n",
    "# );\n",
    "\n",
    "# out center;                                                                                                                       \n",
    "# \"\"\"\n",
    "\n",
    "# response = requests.get(overpass_url,params={'data': overpass_query})\n",
    "# data = response.json()\n",
    "\n",
    "# with open('uskudar.json', 'w') as outfile:\n",
    "#     json.dump(data, outfile)\n",
    "#     print(\"POI list was written.\")"
   ]
  },
  {
   "cell_type": "markdown",
   "metadata": {},
   "source": [
    "### The downloaded information was read from the file."
   ]
  },
  {
   "cell_type": "code",
   "execution_count": 4,
   "metadata": {},
   "outputs": [
    {
     "name": "stdout",
     "output_type": "stream",
     "text": [
      "POI list was read.\n"
     ]
    }
   ],
   "source": [
    "with open('uskudar.json', 'r') as f:\n",
    "    data = json.load(f)\n",
    "    print(\"POI list was read.\")"
   ]
  },
  {
   "cell_type": "code",
   "execution_count": 5,
   "metadata": {},
   "outputs": [
    {
     "name": "stdout",
     "output_type": "stream",
     "text": [
      "Number of places: 15\n"
     ]
    }
   ],
   "source": [
    "#Information about all places read from the file.\n",
    "all_places = [element for element in data['elements']]\n",
    "print(\"Number of places: \" + str(len(all_places)))"
   ]
  },
  {
   "cell_type": "markdown",
   "metadata": {},
   "source": [
    "### Distance matrix was created with Networkx and OSMNX."
   ]
  },
  {
   "cell_type": "code",
   "execution_count": 6,
   "metadata": {},
   "outputs": [],
   "source": [
    "places = []\n",
    "nearest_nodes = []\n",
    "for place in all_places:\n",
    "    point = (place[\"lat\"],place[\"lon\"])\n",
    "    places.append(place[\"tags\"][\"name\"])\n",
    "    nearest = ox.get_nearest_node(G, point, method='haversine', return_dist=False)\n",
    "    nearest_node = G.nodes[nearest]\n",
    "    nearest_node[\"name\"] = place[\"tags\"][\"name\"]\n",
    "    nearest_nodes.append(nearest_node)\n",
    "    \n",
    "    \n",
    "distance_matrix = []\n",
    "for source_node in nearest_nodes:\n",
    "    distance_row = []\n",
    "    for target_node in nearest_nodes:        \n",
    "        distance = 0;\n",
    "        if source_node['osmid'] != target_node['osmid']:\n",
    "            distance = nx.shortest_path_length(G, source_node['osmid'],target_node['osmid'],weight='length', method='dijkstra')\n",
    "        distance_row.append(distance)\n",
    "    distance_matrix.append(distance_row)\n",
    "    \n",
    "distance_matrix = np.array(distance_matrix)   "
   ]
  },
  {
   "cell_type": "markdown",
   "metadata": {},
   "source": [
    "### Distance -> Time\n",
    "Estimated Speed: 40km/h\n",
    "\n",
    "1km/h -> 16.67meter/minutes = 60km/h -> 1000meter/minutes & 40km/h -> 667meter/minutes"
   ]
  },
  {
   "cell_type": "code",
   "execution_count": 7,
   "metadata": {},
   "outputs": [],
   "source": [
    "kmh_to_meterpermin = 667\n",
    "\n",
    "time_matrix = distance_matrix/kmh_to_meterpermin\n",
    "places = np.array(places)"
   ]
  },
  {
   "cell_type": "code",
   "execution_count": 8,
   "metadata": {},
   "outputs": [],
   "source": [
    "def create_environment(time_matrix, cities, eps = 0.0001):\n",
    "    N =len(cities)\n",
    "\n",
    "    def pheremon_matrix(cities, eps = eps):\n",
    "        N =len(cities)\n",
    "        data = (np.ones((N,N))- np.eye(N)) /(N-1)\n",
    "        return pd.DataFrame(data=data, columns = cities, index = cities)\n",
    "\n",
    "    return pd.DataFrame(time_matrix, columns = cities, index = cities), pheremon_matrix(cities)\n",
    "\n",
    "env, phe = create_environment(time_matrix = time_matrix, cities = places)"
   ]
  },
  {
   "cell_type": "markdown",
   "metadata": {},
   "source": [
    "### Data preparation section has finished."
   ]
  },
  {
   "cell_type": "code",
   "execution_count": 9,
   "metadata": {},
   "outputs": [],
   "source": [
    "def cost(route):\n",
    "    result = 0\n",
    "    for i in range(len(route)-1):\n",
    "        result += env.loc[route[i], route[i+1]]\n",
    "    result+= env.loc[route[len(route)-1],route[0]]\n",
    "    return result"
   ]
  },
  {
   "cell_type": "markdown",
   "metadata": {},
   "source": [
    "## Ant Class"
   ]
  },
  {
   "cell_type": "code",
   "execution_count": 10,
   "metadata": {},
   "outputs": [],
   "source": [
    "class Ant():\n",
    "    def __init__(self, env, phe, \n",
    "                 start = nearest_nodes[0]['name'],\n",
    "                alpha = 1, beta = 1, time_constraint = 3500):\n",
    "        \n",
    "        self.outliers = []\n",
    "        self.time_constraint = time_constraint\n",
    "        \n",
    "        self.phe  = phe\n",
    "        self.env = self.outlier(env)\n",
    "        \n",
    "        self.alpha, self.beta = alpha, beta\n",
    "        self.cities = list(self.env.columns)\n",
    "        self.current_city = start\n",
    "        self.depot = start\n",
    "        \n",
    "        self.route = [self.current_city]\n",
    "  \n",
    "        self.possible_cities = self.cities.copy()\n",
    "        self.possible_cities.remove(self.current_city)\n",
    "        \n",
    "    def move(self):\n",
    "        \"\"\"\n",
    "        Move one step\n",
    "        \"\"\"\n",
    "\n",
    "        if len(self.possible_cities) == 0:\n",
    "            return\n",
    "\n",
    "        distances = self.env.loc[self.current_city][self.possible_cities]\n",
    "        pheremons = self.phe.loc[self.current_city][self.possible_cities]\n",
    "        \n",
    "        distances[distances == 0] = 1\n",
    "\n",
    "        preferences = pheremons**self.alpha/distances**self.beta\n",
    "        probabilities = preferences/preferences.sum()\n",
    "\n",
    "        probabilities.dropna(inplace=True)\n",
    "        \n",
    "        self.current_city = np.random.choice(a = probabilities.index, \n",
    "                                             size=1, \n",
    "                                             p = probabilities.values)[0]\n",
    "\n",
    "        self.route.append(self.current_city)\n",
    "        self.possible_cities.remove(self.current_city)\n",
    "        \n",
    "        temp_route = np.array(self.route)\n",
    "        current_depot = np.where(temp_route == self.depot)[0][-1]\n",
    "        \n",
    "\n",
    "        if (cost(self.route[current_depot:]) > (self.time_constraint)):\n",
    "\n",
    "            self.route.pop()\n",
    "\n",
    "            self.possible_cities.append(self.current_city)\n",
    "\n",
    "            self.current_city = self.depot\n",
    "            if self.route[-1] != self.depot:\n",
    "                self.route.append(self.depot)\n",
    "                \n",
    "        \n",
    "    def go(self):\n",
    "        \"\"\"\n",
    "        Build route/path\n",
    "        \"\"\"\n",
    "\n",
    "        while len(self.possible_cities) != 0:\n",
    "            self.move()\n",
    "\n",
    "\n",
    "    def deposit(self):\n",
    "        return self.route\n",
    "        \n",
    "    def cost(self):\n",
    "        result = 0\n",
    "        for i in range(len(self.route)-1):\n",
    "            result += self.env.loc[self.route[i], self.route[i+1]]\n",
    "        result+= self.env.loc[self.route[len(self.route)-1],self.route[0]]\n",
    "        return result\n",
    "\n",
    "\n",
    "    def outlier(self, en):\n",
    "        control = []       \n",
    "        for i,_ in enumerate(en.index.values):\n",
    "            control.append(cost([en.index.values[0],en.index.values[i]]))\n",
    "            \n",
    "        control_np = np.array(control)\n",
    "        \n",
    "        out = en.index.values[control_np>self.time_constraint]\n",
    "        \n",
    "        self.outliers.append(out)\n",
    "               \n",
    "        en = en.drop(out, axis=1)    \n",
    "        en = en.drop(out, axis=0)\n",
    "        \n",
    "        return en"
   ]
  },
  {
   "cell_type": "markdown",
   "metadata": {},
   "source": [
    "## Ant Colony Class"
   ]
  },
  {
   "cell_type": "code",
   "execution_count": 11,
   "metadata": {},
   "outputs": [],
   "source": [
    "class AntColony():\n",
    "    def __init__(self, time_matrix,\n",
    "                 cities, start = nearest_nodes[0]['name'], time_constraint = 3500):\n",
    "        \n",
    "        self.cities = cities\n",
    "        self.start = start  \n",
    "        self.env, self.phe = create_environment(time_matrix, cities = cities)\n",
    "        self.time_constraint = time_constraint\n",
    "\n",
    "    def evaporation(self, decay = 0.05):\n",
    "        # Evaporation of Pheromon\n",
    "        self.phe = self.phe * (1 - decay)\n",
    "        \n",
    "    def deposit(self, route, delta = 1):\n",
    "        env[env == 0] = 10**-8\n",
    "        for i,j in zip(route[:-1], route[1:]):\n",
    "            self.phe.loc[i, j] +=  delta/self.env.loc[i, j]\n",
    "        \n",
    "    def run(self, K = 40, time = 10):\n",
    "        # in each time step\n",
    "        for t in range(time):\n",
    "            # K ants exist in the colony\n",
    "            self.colony = [Ant(env = self.env, phe = self.phe, \n",
    "                          start= self.start, time_constraint = self.time_constraint) \n",
    "                      for k in range(K)]\n",
    "\n",
    "            # distributed and paralel moves of K ants\n",
    "            for k in range(K):\n",
    "                self.colony[k].go()   \n",
    "\n",
    "            # after independent moves, ants deposit pheremon\n",
    "            for k in range(K):\n",
    "                path = self.colony[k].deposit()\n",
    "                self.deposit(route = path)\n",
    "                \n",
    "            self.evaporation()"
   ]
  },
  {
   "cell_type": "markdown",
   "metadata": {},
   "source": [
    "## TDVRP Class"
   ]
  },
  {
   "cell_type": "code",
   "execution_count": 12,
   "metadata": {},
   "outputs": [],
   "source": [
    "class TimeDepentendVRP():\n",
    "    def __init__(self, Swarm, K, Time):\n",
    "        self.swarm = Swarm\n",
    "        \n",
    "        self.swarm.run(K,Time)\n",
    "        \n",
    "    def getSwarm(self):\n",
    "        return self.swarm\n",
    "        \n",
    "        \n",
    "    def printDetails(self, routes, routes_cost, outliers):\n",
    "        count = 1\n",
    "        for a,i in zip(routes,routes_cost):\n",
    "            print(\"Vehicle \" + str(count) + \": \" + str(a) + \" = \" + str(round(i,3)) + \" Minutes\", end='\\n\\n')\n",
    "            count+=1\n",
    "        print(\"Total Time: \" + str(round(np.sum(routes_cost),3)) + \" Minutes\", end='\\n\\n')\n",
    "        print(\"Outliers: \" + str(outliers))\n",
    "        \n",
    "        \n",
    "    def getResult(self, getAsDataFrame = True):\n",
    "        results = [(a.route, a.cost()) for a in self.swarm.colony]\n",
    "\n",
    "        results_dist = [results[i][1] for i in range(len(results))]\n",
    "\n",
    "        min_result_index = np.argmin(results_dist)\n",
    "       \n",
    "        best_routes = np.array(self.swarm.colony[min_result_index].route)\n",
    "\n",
    "        outliers = np.array(self.swarm.colony[min_result_index].outliers[0])\n",
    "        start = self.swarm.colony[min_result_index].depot\n",
    "\n",
    "\n",
    "        depot_points = np.where(best_routes == self.swarm.start)[0] \n",
    "\n",
    "        \n",
    "        route_ranges = [range(depot_points[i],depot_points[i+1]) for i in range(len(depot_points)-1)]\n",
    "       \n",
    "        \n",
    "        route_ranges.append(range(depot_points[-1],len(best_routes)))\n",
    "        \n",
    "        routes = [best_routes[route_ranges[i]].tolist() for i in range(len(route_ranges))]\n",
    "\n",
    "        [routes[i].append(start) for i in range(len(routes))]\n",
    "\n",
    "        \n",
    "        routes_cost = [cost(routes[i]) for i in range(len(routes))]\n",
    "        \n",
    "        self.printDetails(routes, routes_cost, outliers)\n",
    "        \n",
    "        if getAsDataFrame == True:\n",
    "            return pd.DataFrame([routes, routes_cost]).T"
   ]
  },
  {
   "cell_type": "code",
   "execution_count": 13,
   "metadata": {},
   "outputs": [
    {
     "name": "stdout",
     "output_type": "stream",
     "text": [
      "Vehicle 1: ['Sevda Tepesi', 'mezarlık', 'Inanç Ev', 'Kuzguncuk Gazhanesi', 'Harmony', 'Abdulmecit Efendi Köşkü', '15 Temmuz Şehitleri Zafer Anıtı', 'Selamiali efendi mezarı', 'Beş kollu ağaç', 'Abacı Dede Türbesi', 'Bükücüler Han', 'Hacı Ahmet Paşa Türbesi', 'Zübeyde Hanim', 'Atatürk Büstü', 'Tarihi Sütun', 'Sevda Tepesi'] = 51.395 Minutes\n",
      "\n",
      "Total Time: 51.395 Minutes\n",
      "\n",
      "Outliers: []\n"
     ]
    }
   ],
   "source": [
    "daily_limit_of_work = 600 #60min x 10hour\n",
    "swarm = AntColony(time_matrix, cities = places, start = nearest_nodes[0]['name'], time_constraint = daily_limit_of_work)\n",
    "\n",
    "VRP = TimeDepentendVRP(swarm, 5, 10)\n",
    "df = VRP.getResult()"
   ]
  },
  {
   "cell_type": "code",
   "execution_count": 14,
   "metadata": {},
   "outputs": [
    {
     "data": {
      "text/html": [
       "<div>\n",
       "<style scoped>\n",
       "    .dataframe tbody tr th:only-of-type {\n",
       "        vertical-align: middle;\n",
       "    }\n",
       "\n",
       "    .dataframe tbody tr th {\n",
       "        vertical-align: top;\n",
       "    }\n",
       "\n",
       "    .dataframe thead th {\n",
       "        text-align: right;\n",
       "    }\n",
       "</style>\n",
       "<table border=\"1\" class=\"dataframe\">\n",
       "  <thead>\n",
       "    <tr style=\"text-align: right;\">\n",
       "      <th></th>\n",
       "      <th>0</th>\n",
       "      <th>1</th>\n",
       "    </tr>\n",
       "  </thead>\n",
       "  <tbody>\n",
       "    <tr>\n",
       "      <th>0</th>\n",
       "      <td>[Sevda Tepesi, mezarlık, Inanç Ev, Kuzguncuk G...</td>\n",
       "      <td>51.3955</td>\n",
       "    </tr>\n",
       "  </tbody>\n",
       "</table>\n",
       "</div>"
      ],
      "text/plain": [
       "                                                   0        1\n",
       "0  [Sevda Tepesi, mezarlık, Inanç Ev, Kuzguncuk G...  51.3955"
      ]
     },
     "execution_count": 14,
     "metadata": {},
     "output_type": "execute_result"
    }
   ],
   "source": [
    "df"
   ]
  },
  {
   "cell_type": "markdown",
   "metadata": {},
   "source": [
    "### Sources"
   ]
  },
  {
   "cell_type": "markdown",
   "metadata": {},
   "source": [
    "Overpass, OSMNX -> https://github.com/eyildiz/osmnx-route-planner/blob/master/route_planner.ipynb"
   ]
  },
  {
   "cell_type": "markdown",
   "metadata": {},
   "source": [
    "ACO,Uzay Çetin -> https://github.com/uzay00/CMPE373/blob/master/2020/3%20KarincaKolonisi/KarincaKolonisiv4.ipynb"
   ]
  }
 ],
 "metadata": {
  "kernelspec": {
   "display_name": "Python 3",
   "language": "python",
   "name": "python3"
  },
  "language_info": {
   "codemirror_mode": {
    "name": "ipython",
    "version": 3
   },
   "file_extension": ".py",
   "mimetype": "text/x-python",
   "name": "python",
   "nbconvert_exporter": "python",
   "pygments_lexer": "ipython3",
   "version": "3.8.2"
  }
 },
 "nbformat": 4,
 "nbformat_minor": 4
}
